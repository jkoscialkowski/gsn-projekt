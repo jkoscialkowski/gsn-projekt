{
 "cells": [
  {
   "cell_type": "markdown",
   "metadata": {},
   "source": [
    "# Training final models on full dataset"
   ]
  },
  {
   "cell_type": "code",
   "execution_count": 28,
   "metadata": {},
   "outputs": [],
   "source": [
    "import os\n",
    "import torch\n",
    "\n",
    "from datetime import datetime\n",
    "from torchvision import transforms\n",
    "\n",
    "import amphibian.preprocess.preprocessing as preproc\n",
    "\n",
    "from amphibian.fetch.reader import AmphibianReader\n",
    "from amphibian.preprocess.train_test_split import TrainTestSplit\n",
    "from amphibian.architectures import SoftmaxRegressionModel, RNNModel, LSTMModel, AttentionModel\n",
    "from amphibian.train import SingleTrainer\n",
    "from amphibian.visual import ConfusionMatrix, MAVI"
   ]
  },
  {
   "cell_type": "code",
   "execution_count": 23,
   "metadata": {},
   "outputs": [],
   "source": [
    "os.makedirs('./data/model_pickles')"
   ]
  },
  {
   "cell_type": "markdown",
   "metadata": {},
   "source": [
    "Initialize AmphibianReader"
   ]
  },
  {
   "cell_type": "code",
   "execution_count": 10,
   "metadata": {},
   "outputs": [],
   "source": [
    "ar = AmphibianReader('data/all_values/banking',\n",
    "                     datetime(2010, 7, 16),\n",
    "                     datetime(2018, 6, 10))\n",
    "\n",
    "_ = ar.create_torch()"
   ]
  },
  {
   "cell_type": "code",
   "execution_count": 13,
   "metadata": {},
   "outputs": [
    {
     "data": {
      "text/plain": [
       "torch.Size([2057, 6, 10])"
      ]
     },
     "execution_count": 13,
     "metadata": {},
     "output_type": "execute_result"
    }
   ],
   "source": [
    "ar.torch['AMERICA'].shape"
   ]
  },
  {
   "cell_type": "markdown",
   "metadata": {},
   "source": [
    "Initialize train_test_splits"
   ]
  },
  {
   "cell_type": "code",
   "execution_count": 48,
   "metadata": {},
   "outputs": [],
   "source": [
    "train_test_splits = [TrainTestSplit(ar, input_reg='ASIA_PACIFIC', pred_reg='EMEIA', int_start=0, int_end=ar.torch['AMERICA'].shape[0], train_size=0.9465),\n",
    "                     TrainTestSplit(ar, input_reg='ASIA_PACIFIC', pred_reg='AMERICA', int_start=0, int_end=ar.torch['AMERICA'].shape[0], train_size=0.9465),\n",
    "                     TrainTestSplit(ar, input_reg='EMEIA', pred_reg='AMERICA', int_start=0, int_end=ar.torch['AMERICA'].shape[0], train_size=0.9465)]"
   ]
  },
  {
   "cell_type": "markdown",
   "metadata": {},
   "source": [
    "## SoftmaxRegressionModel"
   ]
  },
  {
   "cell_type": "markdown",
   "metadata": {},
   "source": [
    "Parse parameters"
   ]
  },
  {
   "cell_type": "code",
   "execution_count": 21,
   "metadata": {},
   "outputs": [
    {
     "ename": "SyntaxError",
     "evalue": "invalid syntax (<ipython-input-21-3536a7e57042>, line 1)",
     "output_type": "error",
     "traceback": [
      "\u001b[1;36m  File \u001b[1;32m\"<ipython-input-21-3536a7e57042>\"\u001b[1;36m, line \u001b[1;32m1\u001b[0m\n\u001b[1;33m    softmax_regression_params =\u001b[0m\n\u001b[1;37m                                ^\u001b[0m\n\u001b[1;31mSyntaxError\u001b[0m\u001b[1;31m:\u001b[0m invalid syntax\n"
     ]
    }
   ],
   "source": [
    "softmax_regression_params = \n",
    "learning_rate = softmax_regression_params.pop('learning_rate')\n",
    "batch_size = softmax_regression_params['batch_size']\n",
    "seq_len = softmax_regression_params['seq_len']\n",
    "model_params = {**softmax_regression_params, \n",
    "                **{'input_size': 60,\n",
    "                   'n_outputs': 3,\n",
    "                   'max_epochs': 300,\n",
    "                   'early_stopping_patience': 10}}"
   ]
  },
  {
   "cell_type": "code",
   "execution_count": null,
   "metadata": {},
   "outputs": [],
   "source": [
    "timeser_datasets = [\n",
    "    preproc.TimeSeriesDataset(\n",
    "        tts, int_len=seq_len,\n",
    "        transform=transforms.Compose([\n",
    "            preproc.FillNaN(), preproc.Normalizing(),\n",
    "            preproc.DummyFillNaN(), preproc.Formatting(),\n",
    "            preproc.FormattingY()\n",
    "        ])\n",
    "    )\n",
    "    for tts in train_test_splits\n",
    "]\n",
    "\n",
    "tsds = torch.utils.data.ConcatDataset(timeser_datasets)\n",
    "vds = torch.utils.data.ConcatDataset(\n",
    "    [preproc.ValidDataset(td) for td in timeser_datasets]\n",
    ")"
   ]
  },
  {
   "cell_type": "code",
   "execution_count": null,
   "metadata": {},
   "outputs": [],
   "source": [
    "softmax_regression = SoftmaxRegressionModel(**model_params)\n",
    "st_softmax = SingleTrainer(softmax_regression, batch_size, learning_rate, max_epochs=100, early_stopping_patience=10)\n",
    "st_softmax.train(tsds, vds, verbose=False, save_path='./data/model_pickles/softmax_regression.pth')"
   ]
  },
  {
   "cell_type": "markdown",
   "metadata": {},
   "source": [
    "## RNNModel"
   ]
  },
  {
   "cell_type": "markdown",
   "metadata": {},
   "source": [
    "Parse parameters"
   ]
  },
  {
   "cell_type": "code",
   "execution_count": 40,
   "metadata": {},
   "outputs": [],
   "source": [
    "rnn_params = {'learning_rate': 0.003956062, 'batch_size': 32, 'seq_len': 25, 'hidden_size': 8, 'dropout': 0.367072568}\n",
    "learning_rate = rnn_params.pop('learning_rate')\n",
    "batch_size = rnn_params['batch_size']\n",
    "seq_len = rnn_params['seq_len']\n",
    "model_params = {**rnn_params, \n",
    "                **{'input_size': 60,\n",
    "                   'n_outputs': 3,\n",
    "                   'num_layers': 2}}"
   ]
  },
  {
   "cell_type": "code",
   "execution_count": 41,
   "metadata": {},
   "outputs": [],
   "source": [
    "timeser_datasets = [\n",
    "    preproc.TimeSeriesDataset(\n",
    "        tts, int_len=seq_len,\n",
    "        transform=transforms.Compose([\n",
    "            preproc.FillNaN(), preproc.Normalizing(),\n",
    "            preproc.DummyFillNaN(), preproc.Formatting(),\n",
    "            preproc.FormattingY()\n",
    "        ])\n",
    "    )\n",
    "    for tts in train_test_splits\n",
    "]\n",
    "\n",
    "tsds = torch.utils.data.ConcatDataset(timeser_datasets)\n",
    "vds = torch.utils.data.ConcatDataset(\n",
    "    [preproc.ValidDataset(td) for td in timeser_datasets]\n",
    ")"
   ]
  },
  {
   "cell_type": "code",
   "execution_count": null,
   "metadata": {},
   "outputs": [],
   "source": [
    "rnn = RNNModel(**model_params)\n",
    "st_rnn = SingleTrainer(rnn, batch_size, learning_rate, max_epochs=100, early_stopping_patience=10)\n",
    "st_rnn.train(tsds, vds, verbose=False, save_path='./data/model_pickles/rnn.pth')"
   ]
  },
  {
   "cell_type": "markdown",
   "metadata": {},
   "source": [
    "## LSTMModel"
   ]
  },
  {
   "cell_type": "code",
   "execution_count": 43,
   "metadata": {},
   "outputs": [],
   "source": [
    "lstm_params = {'learning_rate': 0.008749082485073683, 'batch_size': 64, 'seq_len': 21, 'hidden_size': 6, 'dropout': 0.4845307361568673}\n",
    "learning_rate = lstm_params.pop('learning_rate')\n",
    "batch_size = lstm_params['batch_size']\n",
    "seq_len = lstm_params['seq_len']\n",
    "model_params = {**lstm_params, \n",
    "                **{'input_size': 60,\n",
    "                   'n_outputs': 3,\n",
    "                   'num_layers': 2}}"
   ]
  },
  {
   "cell_type": "code",
   "execution_count": 44,
   "metadata": {},
   "outputs": [
    {
     "name": "stderr",
     "output_type": "stream",
     "text": [
      "d:\\gsn-projekt\\venv\\lib\\site-packages\\torch\\tensor.py:339: UserWarning: non-inplace resize is deprecated\n",
      "  warnings.warn(\"non-inplace resize is deprecated\")\n",
      "d:\\gsn-projekt\\venv\\lib\\site-packages\\numpy\\core\\fromnumeric.py:86: RuntimeWarning: invalid value encountered in reduce\n",
      "  return ufunc.reduce(obj, axis, dtype, out, **passkwargs)\n"
     ]
    }
   ],
   "source": [
    "timeser_datasets = [\n",
    "    preproc.TimeSeriesDataset(\n",
    "        tts, int_len=seq_len,\n",
    "        transform=transforms.Compose([\n",
    "            preproc.FillNaN(), preproc.Normalizing(),\n",
    "            preproc.DummyFillNaN(), preproc.Formatting(),\n",
    "            preproc.FormattingY()\n",
    "        ])\n",
    "    )\n",
    "    for tts in train_test_splits\n",
    "]\n",
    "\n",
    "tsds = torch.utils.data.ConcatDataset(timeser_datasets)\n",
    "vds = torch.utils.data.ConcatDataset(\n",
    "    [preproc.ValidDataset(td) for td in timeser_datasets]\n",
    ")"
   ]
  },
  {
   "cell_type": "code",
   "execution_count": null,
   "metadata": {},
   "outputs": [],
   "source": [
    "lstm = LSTMModel(**model_params)\n",
    "st_lstm = SingleTrainer(lstm, batch_size, learning_rate, max_epochs=100, early_stopping_patience=10)\n",
    "st_lstm.train(tsds, vds, verbose=False, save_path='./data/model_pickles/lstm.pth')"
   ]
  },
  {
   "cell_type": "markdown",
   "metadata": {},
   "source": [
    "## AttentionModel"
   ]
  },
  {
   "cell_type": "code",
   "execution_count": 52,
   "metadata": {},
   "outputs": [],
   "source": [
    "attn_params = {'learning_rate': 0.004139811848108426, 'batch_size': 64, 'seq_len': 24, 'hidden_size': 10, 'dropout': 0.0067987573823941605}\n",
    "learning_rate = attn_params.pop('learning_rate')\n",
    "batch_size = attn_params['batch_size']\n",
    "seq_len = attn_params['seq_len']\n",
    "model_params = {**attn_params, \n",
    "                **{'input_size': 60,\n",
    "                   'n_outputs': 3,\n",
    "                   'num_layers': 2,\n",
    "                   'recurrent_type': 'lstm',\n",
    "                   'alignment': 'ffnn'}}"
   ]
  },
  {
   "cell_type": "code",
   "execution_count": 53,
   "metadata": {},
   "outputs": [],
   "source": [
    "timeser_datasets = [\n",
    "    preproc.TimeSeriesDataset(\n",
    "        tts, int_len=seq_len,\n",
    "        transform=transforms.Compose([\n",
    "            preproc.FillNaN(), preproc.Normalizing(),\n",
    "            preproc.DummyFillNaN(), preproc.Formatting(),\n",
    "            preproc.FormattingY()\n",
    "        ])\n",
    "    )\n",
    "    for tts in train_test_splits\n",
    "]\n",
    "\n",
    "tsds = torch.utils.data.ConcatDataset(timeser_datasets)\n",
    "vds = torch.utils.data.ConcatDataset(\n",
    "    [preproc.ValidDataset(td) for td in timeser_datasets]\n",
    ")"
   ]
  },
  {
   "cell_type": "code",
   "execution_count": null,
   "metadata": {},
   "outputs": [],
   "source": [
    "attn = AttentionModel(**model_params)\n",
    "st_attn = SingleTrainer(attn, batch_size, learning_rate, max_epochs=100, early_stopping_patience=10)\n",
    "st_attn.train(tsds, vds, verbose=False, save_path='./data/model_pickles/attention.pth')"
   ]
  }
 ],
 "metadata": {
  "kernelspec": {
   "display_name": "venv",
   "language": "python",
   "name": "venv"
  },
  "language_info": {
   "codemirror_mode": {
    "name": "ipython",
    "version": 3
   },
   "file_extension": ".py",
   "mimetype": "text/x-python",
   "name": "python",
   "nbconvert_exporter": "python",
   "pygments_lexer": "ipython3",
   "version": "3.6.4"
  }
 },
 "nbformat": 4,
 "nbformat_minor": 2
}
