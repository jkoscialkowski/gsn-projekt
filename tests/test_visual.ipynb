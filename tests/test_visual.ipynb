{
 "cells": [
  {
   "cell_type": "markdown",
   "metadata": {},
   "source": [
    "## Notebook for visualisation testing"
   ]
  },
  {
   "cell_type": "code",
   "execution_count": 208,
   "metadata": {},
   "outputs": [],
   "source": [
    "import numpy as np\n",
    "import pandas as pd\n",
    "import sys"
   ]
  },
  {
   "cell_type": "code",
   "execution_count": 209,
   "metadata": {},
   "outputs": [],
   "source": [
    "sys.path.append('d:/gsn-projekt')"
   ]
  },
  {
   "cell_type": "code",
   "execution_count": 2,
   "metadata": {},
   "outputs": [],
   "source": [
    "confmat = np.array([[10,2,0],\n",
    "                    [3,15,1],\n",
    "                    [1,4,20]])"
   ]
  },
  {
   "cell_type": "code",
   "execution_count": 3,
   "metadata": {},
   "outputs": [
    {
     "data": {
      "text/plain": [
       "array([[10,  2,  0],\n",
       "       [ 3, 15,  1],\n",
       "       [ 1,  4, 20]])"
      ]
     },
     "execution_count": 3,
     "metadata": {},
     "output_type": "execute_result"
    }
   ],
   "source": [
    "confmat"
   ]
  },
  {
   "cell_type": "markdown",
   "metadata": {},
   "source": [
    "Code from [https://github.com/wcipriano/pretty-print-confusion-matrix](https://github.com/wcipriano/pretty-print-confusion-matrix) "
   ]
  },
  {
   "cell_type": "code",
   "execution_count": 210,
   "metadata": {},
   "outputs": [],
   "source": [
    "from amphibian.visual import ConfusionMatrix"
   ]
  },
  {
   "cell_type": "code",
   "execution_count": 83,
   "metadata": {},
   "outputs": [],
   "source": [
    "cm = ConfusionMatrix(confmat)"
   ]
  },
  {
   "cell_type": "code",
   "execution_count": 84,
   "metadata": {},
   "outputs": [
    {
     "data": {
      "text/plain": [
       "array([[10.        ,  2.        ,  0.        ,  0.83333333],\n",
       "       [ 3.        , 15.        ,  1.        ,  0.78947368],\n",
       "       [ 1.        ,  4.        , 20.        ,  0.8       ],\n",
       "       [ 0.71428571,  0.71428571,  0.95238095,  0.80357143]])"
      ]
     },
     "execution_count": 84,
     "metadata": {},
     "output_type": "execute_result"
    }
   ],
   "source": [
    "cm.compute_metrics()"
   ]
  },
  {
   "cell_type": "code",
   "execution_count": 211,
   "metadata": {},
   "outputs": [
    {
     "data": {
      "image/png": "[encoded data removed]",
      "text/plain": [
       "<Figure size 648x648 with 1 Axes>"
      ]
     },
     "metadata": {
      "needs_background": "light"
     },
     "output_type": "display_data"
    }
   ],
   "source": [
    "ConfusionMatrix(confmat, ['a', 'b', 'c']).plot()"
   ]
  },
  {
   "cell_type": "code",
   "execution_count": 187,
   "metadata": {},
   "outputs": [
    {
     "data": {
      "text/plain": [
       "<Figure size 648x648 with 0 Axes>"
      ]
     },
     "metadata": {},
     "output_type": "display_data"
    }
   ],
   "source": [
    "a = plt.figure('dupa', (9,9))"
   ]
  },
  {
   "cell_type": "code",
   "execution_count": 22,
   "metadata": {},
   "outputs": [
    {
     "data": {
      "text/plain": [
       "<Figure size 648x648 with 0 Axes>"
      ]
     },
     "execution_count": 22,
     "metadata": {},
     "output_type": "execute_result"
    }
   ],
   "source": []
  },
  {
   "cell_type": "code",
   "execution_count": 160,
   "metadata": {},
   "outputs": [],
   "source": [
    "from pandas import DataFrame\n",
    "import numpy as np\n",
    "import matplotlib.pyplot as plt\n",
    "import matplotlib.font_manager as fm\n",
    "from matplotlib.collections import QuadMesh\n",
    "import seaborn as sns\n",
    "\n",
    "\n",
    "def get_new_fig(fn, figsize=[9,9]):\n",
    "    \"\"\" Init graphics \"\"\"\n",
    "    fig1 = plt.figure(fn, figsize)\n",
    "    ax1 = fig1.gca()   #Get Current Axis\n",
    "    ax1.cla() # clear existing plot\n",
    "    return fig1, ax1\n",
    "\n",
    "\n",
    "def configcell_text_and_colors(array_df, lin, col, oText, facecolors, posi, fz, fmt, show_null_values=0):\n",
    "    \"\"\"\n",
    "      config cell text and colors\n",
    "      and return text elements to add and to dell\n",
    "      @TODO: use fmt\n",
    "    \"\"\"\n",
    "    text_add = []; text_del = [];\n",
    "    cell_val = array_df[lin][col]\n",
    "    tot_all = array_df[-1][-1]\n",
    "    per = (float(cell_val) / tot_all) * 100\n",
    "    curr_column = array_df[:,col]\n",
    "    ccl = len(curr_column)\n",
    "\n",
    "    #last line  and/or last column\n",
    "    if(col == (ccl - 1)) or (lin == (ccl - 1)):\n",
    "        #tots and percents\n",
    "        if(cell_val != 0):\n",
    "            if(col == ccl - 1) and (lin == ccl - 1):\n",
    "                tot_rig = 0\n",
    "                for i in range(array_df.shape[0] - 1):\n",
    "                    tot_rig += array_df[i][i]\n",
    "                per_ok = (float(tot_rig) / cell_val) * 100\n",
    "            elif(col == ccl - 1):\n",
    "                tot_rig = array_df[lin][lin]\n",
    "                per_ok = (float(tot_rig) / cell_val) * 100\n",
    "            elif(lin == ccl - 1):\n",
    "                tot_rig = array_df[col][col]\n",
    "                per_ok = (float(tot_rig) / cell_val) * 100\n",
    "            per_err = 100 - per_ok\n",
    "        else:\n",
    "            per_ok = per_err = 0\n",
    "\n",
    "        per_ok_s = ['%.2f%%'%(per_ok), '100%'] [per_ok == 100]\n",
    "\n",
    "        #text to DEL\n",
    "        text_del.append(oText)\n",
    "\n",
    "        #text to ADD\n",
    "        font_prop = fm.FontProperties(weight='bold', size=fz)\n",
    "        text_kwargs = dict(color='w', ha=\"center\", va=\"center\", gid='sum', fontproperties=font_prop)\n",
    "        lis_txt = ['%d'%(cell_val), per_ok_s, '%.2f%%'%(per_err)]\n",
    "        lis_kwa = [text_kwargs]\n",
    "        dic = text_kwargs.copy(); dic['color'] = 'g'; lis_kwa.append(dic);\n",
    "        dic = text_kwargs.copy(); dic['color'] = 'r'; lis_kwa.append(dic);\n",
    "        lis_pos = [(oText._x, oText._y-0.3), (oText._x, oText._y), (oText._x, oText._y+0.3)]\n",
    "        for i in range(len(lis_txt)):\n",
    "            newText = dict(x=lis_pos[i][0], y=lis_pos[i][1], text=lis_txt[i], kw=lis_kwa[i])\n",
    "            #print 'lin: %s, col: %s, newText: %s' %(lin, col, newText)\n",
    "            text_add.append(newText)\n",
    "        #print '\\n'\n",
    "\n",
    "        #set background color for sum cells (last line and last column)\n",
    "        carr = [0.27, 0.30, 0.27, 1.0]\n",
    "        if(col == ccl - 1) and (lin == ccl - 1):\n",
    "            carr = [0.17, 0.20, 0.17, 1.0]\n",
    "        facecolors[posi] = carr\n",
    "\n",
    "    else:\n",
    "        if(per > 0):\n",
    "            txt = '%s\\n%.2f%%' %(cell_val, per)\n",
    "        else:\n",
    "            if(show_null_values == 0):\n",
    "                txt = ''\n",
    "            elif(show_null_values == 1):\n",
    "                txt = '0'\n",
    "            else:\n",
    "                txt = '0\\n0.0%'\n",
    "        oText.set_text(txt)\n",
    "\n",
    "        #main diagonal\n",
    "        if(col == lin):\n",
    "            #set color of the textin the diagonal to white\n",
    "            oText.set_color('w')\n",
    "            # set background color in the diagonal to blue\n",
    "            facecolors[posi] = [0.35, 0.8, 0.55, 1.0]\n",
    "        else:\n",
    "            oText.set_color('r')\n",
    "\n",
    "    return text_add, text_del\n",
    "#\n",
    "\n",
    "def insert_totals(df_cm):\n",
    "    \"\"\" insert total column and line (the last ones) \"\"\"\n",
    "    sum_col = []\n",
    "    for c in df_cm.columns:\n",
    "        sum_col.append( df_cm[c].sum() )\n",
    "    sum_lin = []\n",
    "    for item_line in df_cm.iterrows():\n",
    "        sum_lin.append( item_line[1].sum() )\n",
    "    df_cm['Precision'] = sum_lin\n",
    "    sum_col.append(np.sum(sum_lin))\n",
    "    df_cm.loc['Recall'] = sum_col\n",
    "\n",
    "    \n",
    "def pretty_plot_confusion_matrix(df_cm, annot=True, cmap=\"Oranges\", fmt='.2f', fz=11,\n",
    "      lw=0.5, cbar=False, figsize=[8,8], show_null_values=0, pred_val_axis='y'):\n",
    "    \"\"\"\n",
    "      print conf matrix with default layout (like matlab)\n",
    "      params:\n",
    "        df_cm          dataframe (pandas) without totals\n",
    "        annot          print text in each cell\n",
    "        cmap           Oranges,Oranges_r,YlGnBu,Blues,RdBu, ... see:\n",
    "        fz             fontsize\n",
    "        lw             linewidth\n",
    "        pred_val_axis  where to show the prediction values (x or y axis)\n",
    "                        'col' or 'x': show predicted values in columns (x axis) instead lines\n",
    "                        'lin' or 'y': show predicted values in lines   (y axis)\n",
    "    \"\"\"\n",
    "    if(pred_val_axis in ('col', 'x')):\n",
    "        xlbl = 'Predicted'\n",
    "        ylbl = 'Actual'\n",
    "    else:\n",
    "        xlbl = 'Actual'\n",
    "        ylbl = 'Predicted'\n",
    "        df_cm = df_cm.T\n",
    "\n",
    "    # create \"Total\" column\n",
    "    insert_totals(df_cm)\n",
    "\n",
    "    #this is for print allways in the same window\n",
    "    fig, ax1 = get_new_fig('Conf matrix default', figsize)\n",
    "\n",
    "    #thanks for seaborn\n",
    "    ax = sns.heatmap(df_cm, annot=annot, annot_kws={\"size\": fz}, linewidths=lw, ax=ax1,\n",
    "                    cbar=cbar, cmap=cmap, linecolor='w', fmt=fmt)\n",
    "\n",
    "    #set ticklabels rotation\n",
    "    ax.set_xticklabels(ax.get_xticklabels(), rotation = 45, fontsize = 10)\n",
    "    ax.set_yticklabels(ax.get_yticklabels(), rotation = 25, fontsize = 10)\n",
    "    \n",
    "    # Move xaxis ticks to top\n",
    "    ax.xaxis.tick_top()\n",
    "    ax.xaxis.set_label_position('top')\n",
    "\n",
    "    # Turn off all the ticks\n",
    "    for t in ax.xaxis.get_major_ticks():\n",
    "        t.tick1On = False\n",
    "        t.tick2On = False\n",
    "    for t in ax.yaxis.get_major_ticks():\n",
    "        t.tick1On = False\n",
    "        t.tick2On = False\n",
    "\n",
    "    #face colors list\n",
    "    quadmesh = ax.findobj(QuadMesh)[0]\n",
    "    facecolors = quadmesh.get_facecolors()\n",
    "\n",
    "    #iter in text elements\n",
    "    array_df = np.array( df_cm.to_records(index=False).tolist() )\n",
    "    text_add = []; text_del = [];\n",
    "    posi = -1 #from left to right, bottom to top.\n",
    "    for t in ax.collections[0].axes.texts: #ax.texts:\n",
    "        pos = np.array( t.get_position()) - [0.5,0.5]\n",
    "        lin = int(pos[1]); col = int(pos[0]);\n",
    "        posi += 1\n",
    "        #print ('>>> pos: %s, posi: %s, val: %s, txt: %s' %(pos, posi, array_df[lin][col], t.get_text()))\n",
    "\n",
    "        #set text\n",
    "        txt_res = configcell_text_and_colors(array_df, lin, col, t, facecolors, posi, fz, fmt, show_null_values)\n",
    "\n",
    "        text_add.extend(txt_res[0])\n",
    "        text_del.extend(txt_res[1])\n",
    "\n",
    "    #remove the old ones\n",
    "    for item in text_del:\n",
    "        item.remove()\n",
    "    #append the new ones\n",
    "    for item in text_add:\n",
    "        ax.text(item['x'], item['y'], item['text'], **item['kw'])\n",
    "\n",
    "    #titles and legends\n",
    "    ax.set_title('Confusion matrix')\n",
    "    ax.set_xlabel(xlbl)\n",
    "    ax.set_ylabel(ylbl)\n",
    "    plt.tight_layout()  #set layout slim\n",
    "    plt.show()\n",
    "#\n"
   ]
  },
  {
   "cell_type": "code",
   "execution_count": 93,
   "metadata": {},
   "outputs": [
    {
     "data": {
      "text/plain": [
       "[]"
      ]
     },
     "execution_count": 93,
     "metadata": {},
     "output_type": "execute_result"
    },
    {
     "data": {
      "image/png": "[encoded data removed]",
      "text/plain": [
       "<Figure size 432x288 with 2 Axes>"
      ]
     },
     "metadata": {
      "needs_background": "light"
     },
     "output_type": "display_data"
    }
   ],
   "source": [
    "a = sn.heatmap(confmat)\n",
    "a.collections[0].axes.texts"
   ]
  },
  {
   "cell_type": "code",
   "execution_count": 18,
   "metadata": {},
   "outputs": [
    {
     "name": "stdout",
     "output_type": "stream",
     "text": [
      "([], [])\n",
      "([], [])\n",
      "([], [])\n",
      "([{'x': 3.5, 'y': 0.2, 'text': '14', 'kw': {'color': 'w', 'ha': 'center', 'va': 'center', 'gid': 'sum', 'fontproperties': <matplotlib.font_manager.FontProperties object at 0x000002E3FEA9FB70>}}, {'x': 3.5, 'y': 0.5, 'text': '71.43%', 'kw': {'color': 'g', 'ha': 'center', 'va': 'center', 'gid': 'sum', 'fontproperties': <matplotlib.font_manager.FontProperties object at 0x000002E3FEA9FB70>}}, {'x': 3.5, 'y': 0.8, 'text': '28.57%', 'kw': {'color': 'r', 'ha': 'center', 'va': 'center', 'gid': 'sum', 'fontproperties': <matplotlib.font_manager.FontProperties object at 0x000002E3FEA9FB70>}}], [Text(3.5, 0.5, '14.00')])\n",
      "([], [])\n",
      "([], [])\n",
      "([], [])\n",
      "([{'x': 3.5, 'y': 1.2, 'text': '21', 'kw': {'color': 'w', 'ha': 'center', 'va': 'center', 'gid': 'sum', 'fontproperties': <matplotlib.font_manager.FontProperties object at 0x000002E3FEA7B668>}}, {'x': 3.5, 'y': 1.5, 'text': '71.43%', 'kw': {'color': 'g', 'ha': 'center', 'va': 'center', 'gid': 'sum', 'fontproperties': <matplotlib.font_manager.FontProperties object at 0x000002E3FEA7B668>}}, {'x': 3.5, 'y': 1.8, 'text': '28.57%', 'kw': {'color': 'r', 'ha': 'center', 'va': 'center', 'gid': 'sum', 'fontproperties': <matplotlib.font_manager.FontProperties object at 0x000002E3FEA7B668>}}], [Text(3.5, 1.5, '21.00')])\n",
      "([], [])\n",
      "([], [])\n",
      "([], [])\n",
      "([{'x': 3.5, 'y': 2.2, 'text': '21', 'kw': {'color': 'w', 'ha': 'center', 'va': 'center', 'gid': 'sum', 'fontproperties': <matplotlib.font_manager.FontProperties object at 0x000002E3FEA7BF28>}}, {'x': 3.5, 'y': 2.5, 'text': '95.24%', 'kw': {'color': 'g', 'ha': 'center', 'va': 'center', 'gid': 'sum', 'fontproperties': <matplotlib.font_manager.FontProperties object at 0x000002E3FEA7BF28>}}, {'x': 3.5, 'y': 2.8, 'text': '4.76%', 'kw': {'color': 'r', 'ha': 'center', 'va': 'center', 'gid': 'sum', 'fontproperties': <matplotlib.font_manager.FontProperties object at 0x000002E3FEA7BF28>}}], [Text(3.5, 2.5, '21.00')])\n",
      "([{'x': 0.5, 'y': 3.2, 'text': '12', 'kw': {'color': 'w', 'ha': 'center', 'va': 'center', 'gid': 'sum', 'fontproperties': <matplotlib.font_manager.FontProperties object at 0x000002E3FEA9FC88>}}, {'x': 0.5, 'y': 3.5, 'text': '83.33%', 'kw': {'color': 'g', 'ha': 'center', 'va': 'center', 'gid': 'sum', 'fontproperties': <matplotlib.font_manager.FontProperties object at 0x000002E3FEA9FC88>}}, {'x': 0.5, 'y': 3.8, 'text': '16.67%', 'kw': {'color': 'r', 'ha': 'center', 'va': 'center', 'gid': 'sum', 'fontproperties': <matplotlib.font_manager.FontProperties object at 0x000002E3FEA9FC88>}}], [Text(0.5, 3.5, '12.00')])\n",
      "([{'x': 1.5, 'y': 3.2, 'text': '19', 'kw': {'color': 'w', 'ha': 'center', 'va': 'center', 'gid': 'sum', 'fontproperties': <matplotlib.font_manager.FontProperties object at 0x000002E3FEA9FD68>}}, {'x': 1.5, 'y': 3.5, 'text': '78.95%', 'kw': {'color': 'g', 'ha': 'center', 'va': 'center', 'gid': 'sum', 'fontproperties': <matplotlib.font_manager.FontProperties object at 0x000002E3FEA9FD68>}}, {'x': 1.5, 'y': 3.8, 'text': '21.05%', 'kw': {'color': 'r', 'ha': 'center', 'va': 'center', 'gid': 'sum', 'fontproperties': <matplotlib.font_manager.FontProperties object at 0x000002E3FEA9FD68>}}], [Text(1.5, 3.5, '19.00')])\n",
      "([{'x': 2.5, 'y': 3.2, 'text': '25', 'kw': {'color': 'w', 'ha': 'center', 'va': 'center', 'gid': 'sum', 'fontproperties': <matplotlib.font_manager.FontProperties object at 0x000002E3FEA9FE48>}}, {'x': 2.5, 'y': 3.5, 'text': '80.00%', 'kw': {'color': 'g', 'ha': 'center', 'va': 'center', 'gid': 'sum', 'fontproperties': <matplotlib.font_manager.FontProperties object at 0x000002E3FEA9FE48>}}, {'x': 2.5, 'y': 3.8, 'text': '20.00%', 'kw': {'color': 'r', 'ha': 'center', 'va': 'center', 'gid': 'sum', 'fontproperties': <matplotlib.font_manager.FontProperties object at 0x000002E3FEA9FE48>}}], [Text(2.5, 3.5, '25.00')])\n",
      "([{'x': 3.5, 'y': 3.2, 'text': '56', 'kw': {'color': 'w', 'ha': 'center', 'va': 'center', 'gid': 'sum', 'fontproperties': <matplotlib.font_manager.FontProperties object at 0x000002E3FEA9FF28>}}, {'x': 3.5, 'y': 3.5, 'text': '80.36%', 'kw': {'color': 'g', 'ha': 'center', 'va': 'center', 'gid': 'sum', 'fontproperties': <matplotlib.font_manager.FontProperties object at 0x000002E3FEA9FF28>}}, {'x': 3.5, 'y': 3.8, 'text': '19.64%', 'kw': {'color': 'r', 'ha': 'center', 'va': 'center', 'gid': 'sum', 'fontproperties': <matplotlib.font_manager.FontProperties object at 0x000002E3FEA9FF28>}}], [Text(3.5, 3.5, '56.00')])\n"
     ]
    },
    {
     "name": "stderr",
     "output_type": "stream",
     "text": [
      "d:\\gsn-projekt\\venv\\lib\\site-packages\\ipykernel_launcher.py:49: DeprecationWarning: In future, it will be an error for 'np.bool_' scalars to be interpreted as an index\n"
     ]
    },
    {
     "data": {
      "image/png": "[encoded data removed]",
      "text/plain": [
       "<Figure size 576x576 with 1 Axes>"
      ]
     },
     "metadata": {
      "needs_background": "light"
     },
     "output_type": "display_data"
    }
   ],
   "source": [
    "pretty_plot_confusion_matrix(pd.DataFrame(confmat))"
   ]
  }
 ],
 "metadata": {
  "kernelspec": {
   "display_name": "venv",
   "language": "python",
   "name": "venv"
  },
  "language_info": {
   "codemirror_mode": {
    "name": "ipython",
    "version": 3
   },
   "file_extension": ".py",
   "mimetype": "text/x-python",
   "name": "python",
   "nbconvert_exporter": "python",
   "pygments_lexer": "ipython3",
   "version": "3.6.4"
  }
 },
 "nbformat": 4,
 "nbformat_minor": 2
}
