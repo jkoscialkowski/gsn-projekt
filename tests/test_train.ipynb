{
 "cells": [
  {
   "cell_type": "markdown",
   "metadata": {
    "pycharm": {}
   },
   "source": [
    "## Import modules"
   ]
  },
  {
   "cell_type": "code",
   "execution_count": 1,
   "metadata": {
    "pycharm": {
     "is_executing": false,
     "metadata": false,
     "name": "#%%\n"
    }
   },
   "outputs": [],
   "source": [
    "import datetime\n",
    "import matplotlib.pyplot as plt\n",
    "import numpy as np\n",
    "import sys\n",
    "import torch\n",
    "\n",
    "from scipy import stats\n",
    "from torchvision import transforms\n",
    "from torch.utils.data import DataLoader\n",
    "\n",
    "sys.path.append('d:/gsn-projekt')\n",
    "\n",
    "import amphibian.preprocess.preprocessing as preproc\n",
    "from amphibian.fetch.reader import AmphibianReader\n",
    "from amphibian.preprocess.train_test_split import TrainTestSplit\n",
    "from amphibian.architectures import RNNModel\n",
    "from amphibian.train import SingleTrainer, batch_size_dist"
   ]
  },
  {
   "cell_type": "markdown",
   "metadata": {
    "pycharm": {
     "metadata": false
    }
   },
   "source": [
    "## Parameters"
   ]
  },
  {
   "cell_type": "code",
   "execution_count": 2,
   "metadata": {
    "pycharm": {
     "is_executing": false
    }
   },
   "outputs": [],
   "source": [
    "WINDOW_WIDTH = 10\n",
    "PARAM_GRID_RNN = {\n",
    "    'batch_size': batch_size_dist(32, 256),\n",
    "    'seq_len': stats.randint(10, 11),\n",
    "    'input_size': stats.randint(126, 127),\n",
    "    'hidden_size': stats.randint(5, 20),\n",
    "    'n_outputs': stats.randint(3,4),\n",
    "    'num_layers': stats.randint(2,3),\n",
    "    'dropout': stats.uniform(0, 1)\n",
    "}"
   ]
  },
  {
   "cell_type": "code",
   "execution_count": 3,
   "metadata": {
    "pycharm": {
     "is_executing": false
    }
   },
   "outputs": [
    {
     "name": "stdout",
     "output_type": "stream",
     "text": [
      "batch_size 256\n",
      "seq_len 10\n",
      "input_size 126\n",
      "hidden_size 9\n",
      "n_outputs 3\n",
      "num_layers 2\n",
      "dropout 0.9642035129599527\n"
     ]
    }
   ],
   "source": [
    "for k,v in PARAM_GRID_RNN.items():\n",
    "    print(k, v.rvs(size=1)[0])"
   ]
  },
  {
   "cell_type": "markdown",
   "metadata": {
    "pycharm": {}
   },
   "source": [
    "## Read data"
   ]
  },
  {
   "cell_type": "code",
   "execution_count": 4,
   "metadata": {
    "pycharm": {
     "is_executing": false
    }
   },
   "outputs": [],
   "source": [
    "DATA_PATH = r'D:\\gsn-projekt\\data\\all_values\\stocks\\Auto Manufacturers - Major'\n",
    "\n",
    "ar = AmphibianReader(DATA_PATH, datetime.datetime(2011, 1, 1), datetime.datetime(2018, 1, 1))\n",
    "\n",
    "_ = ar.create_torch()"
   ]
  },
  {
   "cell_type": "markdown",
   "metadata": {
    "pycharm": {}
   },
   "source": [
    "## Train test split"
   ]
  },
  {
   "cell_type": "code",
   "execution_count": 5,
   "metadata": {
    "pycharm": {
     "is_executing": false
    }
   },
   "outputs": [],
   "source": [
    "tts = TrainTestSplit(ar, int_start=0, int_end=1000)"
   ]
  },
  {
   "cell_type": "code",
   "execution_count": 6,
   "metadata": {
    "pycharm": {
     "is_executing": false
    }
   },
   "outputs": [
    {
     "name": "stderr",
     "output_type": "stream",
     "text": [
      "d:\\gsn-projekt\\venv\\lib\\site-packages\\torch\\tensor.py:339: UserWarning: non-inplace resize is deprecated\n",
      "  warnings.warn(\"non-inplace resize is deprecated\")\n"
     ]
    }
   ],
   "source": [
    "tsds = preproc.TimeSeriesDataset(tts, int_len=WINDOW_WIDTH, transform=transforms.Compose([\n",
    "    preproc.FillNaN(), preproc.Normalizing(), preproc.DummyFillNaN(), preproc.Formatting(), \n",
    "    preproc.FormattingY()\n",
    "]))"
   ]
  },
  {
   "cell_type": "code",
   "execution_count": 7,
   "metadata": {
    "pycharm": {}
   },
   "outputs": [
    {
     "data": {
      "text/plain": [
       "95"
      ]
     },
     "execution_count": 7,
     "metadata": {},
     "output_type": "execute_result"
    }
   ],
   "source": [
    "tsds.whole_set['train_y'].size(1)"
   ]
  },
  {
   "cell_type": "code",
   "execution_count": 8,
   "metadata": {},
   "outputs": [
    {
     "data": {
      "text/plain": [
       "75145"
      ]
     },
     "execution_count": 8,
     "metadata": {},
     "output_type": "execute_result"
    }
   ],
   "source": [
    "tsds.len_train * 95"
   ]
  },
  {
   "cell_type": "code",
   "execution_count": null,
   "metadata": {},
   "outputs": [
    {
     "data": {
      "text/plain": [
       "{'train_obs': tensor([[ 0.3100, -0.6336,  2.2020,  ...,  1.8890,  1.7051,  2.8049],\n",
       "         [ 0.2960, -0.6810,  2.2020,  ...,  1.8207,  1.7037,  3.2221],\n",
       "         [ 0.2397, -0.6810,  2.2020,  ...,  1.9070,  1.7358,  3.0237],\n",
       "         ...,\n",
       "         [ 0.1554, -0.6810,  2.2020,  ...,  2.0451,  1.7942,  2.6828],\n",
       "         [ 0.1413, -0.7283,  2.2020,  ...,  2.0059,  1.7037,  2.6828],\n",
       "         [ 0.0710, -0.7283,  2.2020,  ...,  1.7987,  1.4628,  2.3775]],\n",
       "        device='cuda:0'), 'train_y': tensor(0, device='cuda:0')}"
      ]
     },
     "execution_count": 9,
     "metadata": {},
     "output_type": "execute_result"
    }
   ],
   "source": [
    "tsds[75144]"
   ]
  },
  {
   "cell_type": "markdown",
   "metadata": {},
   "source": [
    "## Batch check"
   ]
  },
  {
   "cell_type": "code",
   "execution_count": null,
   "metadata": {},
   "outputs": [],
   "source": [
    "sampled_params = {}\n",
    "for k, v in PARAM_GRID_RNN.items():\n",
    "    s = v.rvs(size=1)[0]\n",
    "    if s.dtype == float:\n",
    "        sampled_params[k] = float(s)\n",
    "    else:\n",
    "        sampled_params[k] = int(s)"
   ]
  },
  {
   "cell_type": "code",
   "execution_count": null,
   "metadata": {
    "pycharm": {}
   },
   "outputs": [],
   "source": [
    "dl = DataLoader(tsds, batch_size=256, shuffle=True)"
   ]
  },
  {
   "cell_type": "code",
   "execution_count": null,
   "metadata": {},
   "outputs": [],
   "source": [
    "for i, batch in enumerate(dl):\n",
    "    break #print(batch['train_obs'].size())"
   ]
  },
  {
   "cell_type": "code",
   "execution_count": null,
   "metadata": {},
   "outputs": [],
   "source": [
    "vds = preproc.ValidDataset(tsds)"
   ]
  },
  {
   "cell_type": "code",
   "execution_count": null,
   "metadata": {},
   "outputs": [
    {
     "data": {
      "text/plain": [
       "18145"
      ]
     },
     "execution_count": 14,
     "metadata": {},
     "output_type": "execute_result"
    }
   ],
   "source": [
    "len(vds)"
   ]
  },
  {
   "cell_type": "code",
   "execution_count": null,
   "metadata": {},
   "outputs": [
    {
     "data": {
      "text/plain": [
       "{'test_obs': tensor([[ 0.2257, -0.6336,  1.7779,  ...,  3.7820,  5.2672, 20.6378],\n",
       "         [ 0.1976, -0.6810,  1.7514,  ...,  3.8892,  5.3069, 22.2276],\n",
       "         [ 0.3100, -0.6810,  1.7514,  ...,  4.1682,  5.4980, 21.6737],\n",
       "         ...,\n",
       "         [ 0.2679, -0.6336,  1.6189,  ...,  4.2793,  5.6861, 21.5814],\n",
       "         [ 0.2257, -0.5863,  1.7514,  ...,  4.2911,  5.6420, 21.8737],\n",
       "         [ 0.3522, -0.5863,  1.7514,  ...,  4.4313,  5.8640, 22.0891]],\n",
       "        device='cuda:0'), 'test_y': tensor(2, device='cuda:0')}"
      ]
     },
     "execution_count": 15,
     "metadata": {},
     "output_type": "execute_result"
    }
   ],
   "source": [
    "vds[18144]"
   ]
  },
  {
   "cell_type": "code",
   "execution_count": null,
   "metadata": {},
   "outputs": [
    {
     "data": {
      "text/plain": [
       "torch.Size([10, 126])"
      ]
     },
     "execution_count": 16,
     "metadata": {},
     "output_type": "execute_result"
    }
   ],
   "source": [
    "vds[1]['test_obs'].shape"
   ]
  },
  {
   "cell_type": "markdown",
   "metadata": {},
   "source": [
    "## Single training"
   ]
  },
  {
   "cell_type": "code",
   "execution_count": null,
   "metadata": {},
   "outputs": [
    {
     "name": "stdout",
     "output_type": "stream",
     "text": [
      "{'batch_size': 128, 'seq_len': 10, 'input_size': 126, 'hidden_size': 6, 'n_outputs': 3, 'num_layers': 2, 'dropout': 0.004969244040797904}\n"
     ]
    }
   ],
   "source": [
    "print(sampled_params)"
   ]
  },
  {
   "cell_type": "code",
   "execution_count": null,
   "metadata": {},
   "outputs": [],
   "source": [
    "rnnmodel = RNNModel(**sampled_params)\n",
    "st = SingleTrainer(rnnmodel, batch_size=sampled_params['batch_size'], early_stopping_patience=20)"
   ]
  },
  {
   "cell_type": "code",
   "execution_count": null,
   "metadata": {},
   "outputs": [
    {
     "data": {
      "image/png": "[encoded data removed]",
      "text/plain": [
       "<Figure size 864x576 with 1 Axes>"
      ]
     },
     "metadata": {
      "needs_background": "light"
     },
     "output_type": "display_data"
    },
    {
     "name": "stdout",
     "output_type": "stream",
     "text": [
      "log_loss:\n",
      "training   (min:    0.978, max:    1.096, cur:    0.979)\n",
      "validation (min:    1.107, max:    1.250, cur:    1.164)\n"
     ]
    }
   ],
   "source": [
    "st.train(tsds, vds, verbose=False)"
   ]
  },
  {
   "cell_type": "code",
   "execution_count": null,
   "metadata": {},
   "outputs": [],
   "source": [
    "plt.plot([1,2,3], label = 'dupa')\n",
    "plt.plot([2,3,4], label = 'awda')\n",
    "plt.legend()"
   ]
  }
 ],
 "metadata": {
  "kernelspec": {
   "display_name": "venv",
   "language": "python",
   "name": "venv"
  },
  "language_info": {
   "codemirror_mode": {
    "name": "ipython",
    "version": 3
   },
   "file_extension": ".py",
   "mimetype": "text/x-python",
   "name": "python",
   "nbconvert_exporter": "python",
   "pygments_lexer": "ipython3",
   "version": "3.6.4"
  }
 },
 "nbformat": 4,
 "nbformat_minor": 2
}
