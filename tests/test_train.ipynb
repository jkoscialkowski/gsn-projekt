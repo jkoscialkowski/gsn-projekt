{
 "cells": [
  {
   "cell_type": "markdown",
   "metadata": {},
   "source": [
    "## Import modules"
   ]
  },
  {
   "cell_type": "code",
   "execution_count": 1,
   "metadata": {},
   "outputs": [],
   "source": [
    "import datetime\n",
    "import sys\n",
    "\n",
    "from scipy import stats\n",
    "from torchvision import transforms\n",
    "from torch.utils.data import DataLoader\n",
    "\n",
    "sys.path.append('d:/gsn-projekt')\n",
    "\n",
    "import amphibian.preprocess.preprocessing as preproc\n",
    "from amphibian.fetch.reader import AmphibianReader\n",
    "from amphibian.preprocess.train_test_split import Train_test_split\n",
    "from amphibian.architectures import RNNModel\n",
    "from amphibian.train import SingleTrainer, batch_size_dist"
   ]
  },
  {
   "cell_type": "markdown",
   "metadata": {},
   "source": [
    "## Parameters"
   ]
  },
  {
   "cell_type": "code",
   "execution_count": 7,
   "metadata": {},
   "outputs": [],
   "source": [
    "WINDOW_WIDTH = 10\n",
    "PARAM_GRID_RNN = {\n",
    "    'batch_size': batch_size_dist(32, 256),\n",
    "    'seq_len': stats.randint(10, 11),\n",
    "    'input_size': stats.randint(50, 51),\n",
    "    'hidden_size': stats.randint(5, 20),\n",
    "    'n_outputs': stats.randint(3,4),\n",
    "    'num_layers': stats.randint(2,3),\n",
    "    'dropout': stats.uniform(0, 1)\n",
    "}"
   ]
  },
  {
   "cell_type": "code",
   "execution_count": 11,
   "metadata": {},
   "outputs": [
    {
     "name": "stdout",
     "output_type": "stream",
     "text": [
      "batch_size 256\n",
      "seq_len 10\n",
      "input_size 50\n",
      "hidden_size 13\n",
      "n_outputs 3\n",
      "num_layers 2\n",
      "dropout 0.5436987381990299\n"
     ]
    }
   ],
   "source": [
    "for k,v in PARAM_GRID_RNN.items():\n",
    "    print(k, v.rvs(size=1)[0])"
   ]
  },
  {
   "cell_type": "markdown",
   "metadata": {},
   "source": [
    "## Read data"
   ]
  },
  {
   "cell_type": "code",
   "execution_count": 7,
   "metadata": {},
   "outputs": [],
   "source": [
    "DATA_PATH = r'D:\\gsn-projekt\\data\\all_values\\stocks\\Auto Manufacturers - Major'\n",
    "\n",
    "ar = AmphibianReader(DATA_PATH, datetime.datetime(2011, 1, 1), datetime.datetime(2018, 1, 1))\n",
    "\n",
    "_ = ar.create_torch()"
   ]
  },
  {
   "cell_type": "markdown",
   "metadata": {},
   "source": [
    "## Train test split"
   ]
  },
  {
   "cell_type": "code",
   "execution_count": 9,
   "metadata": {},
   "outputs": [],
   "source": [
    "tts = Train_test_split(ar, int_start=0, int_end=1000)"
   ]
  },
  {
   "cell_type": "code",
   "execution_count": 14,
   "metadata": {},
   "outputs": [
    {
     "name": "stderr",
     "output_type": "stream",
     "text": [
      "d:\\gsn-projekt\\venv\\lib\\site-packages\\torch\\tensor.py:339: UserWarning: non-inplace resize is deprecated\n",
      "  warnings.warn(\"non-inplace resize is deprecated\")\n"
     ]
    }
   ],
   "source": [
    "tsds = preproc.TimeSeriesDataset(tts, int_len=WINDOW_WIDTH, transform=transforms.Compose([\n",
    "    preproc.Fill_NaN(), preproc.Normalizing(), preproc.Dummy_Fill_NaN(), preproc.Formatting(), preproc.Formatting_y()\n",
    "]))"
   ]
  },
  {
   "cell_type": "code",
   "execution_count": 16,
   "metadata": {},
   "outputs": [
    {
     "data": {
      "text/plain": [
       "{'train_obs': tensor([[ 0.3922,  0.0000, -0.5291,  ..., -0.4317, -0.3979,  2.1348],\n",
       "         [ 0.5746,  2.5894, -0.1829,  ..., -0.4747, -0.3981,  1.9274],\n",
       "         [ 0.7851,  2.3545, -0.2361,  ..., -0.5347, -0.4721,  1.5955],\n",
       "         ...,\n",
       "         [ 0.8833,  1.7908,  0.0036,  ..., -0.6017, -0.5025,  1.3282],\n",
       "         [ 0.7991,  1.6499, -0.2894,  ..., -0.7512, -0.6576,  1.0839],\n",
       "         [ 0.7430,  1.6030, -0.2628,  ..., -0.7610, -0.6496,  0.8627]],\n",
       "        device='cuda:0'), 'train_y': tensor(2.)}"
      ]
     },
     "execution_count": 16,
     "metadata": {},
     "output_type": "execute_result"
    }
   ],
   "source": [
    "tsds[1]"
   ]
  },
  {
   "cell_type": "code",
   "execution_count": 21,
   "metadata": {},
   "outputs": [],
   "source": [
    "dl = DataLoader(tsds, batch_size=BATCH_SIZE, shuffle=True)"
   ]
  },
  {
   "cell_type": "code",
   "execution_count": null,
   "metadata": {},
   "outputs": [],
   "source": [
    "for i, batch in enumerate(dl):\n",
    "    print(batch.size)"
   ]
  }
 ],
 "metadata": {
  "kernelspec": {
   "display_name": "venv",
   "language": "python",
   "name": "venv"
  },
  "language_info": {
   "codemirror_mode": {
    "name": "ipython",
    "version": 3
   },
   "file_extension": ".py",
   "mimetype": "text/x-python",
   "name": "python",
   "nbconvert_exporter": "python",
   "pygments_lexer": "ipython3",
   "version": "3.6.4"
  }
 },
 "nbformat": 4,
 "nbformat_minor": 2
}
