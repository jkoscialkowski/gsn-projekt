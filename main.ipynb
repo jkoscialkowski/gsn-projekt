{
 "cells": [
  {
   "cell_type": "markdown",
   "metadata": {},
   "source": [
    "# Training notebook"
   ]
  },
  {
   "cell_type": "code",
   "execution_count": 9,
   "metadata": {},
   "outputs": [],
   "source": [
    "import numpy as np\n",
    "\n",
    "import datetime\n",
    "\n",
    "from amphibian.fetch.reader import AmphibianReader"
   ]
  },
  {
   "cell_type": "code",
   "execution_count": 7,
   "metadata": {},
   "outputs": [],
   "source": [
    "param_grid = {\n",
    "    'batch_size': 2 ** np.arange(5, 10),\n",
    "    'window_width': np.arange(10, 51, 10),\n",
    "    'dropout': np.arange(0, 0.51, 0.1),\n",
    "    \n",
    "}"
   ]
  },
  {
   "cell_type": "code",
   "execution_count": 8,
   "metadata": {},
   "outputs": [
    {
     "data": {
      "text/plain": [
       "{'batch_size': array([ 32,  64, 128, 256, 512], dtype=int32),\n",
       " 'window_width': array([10, 20, 30, 40, 50]),\n",
       " 'dropout': array([0. , 0.1, 0.2, 0.3, 0.4, 0.5])}"
      ]
     },
     "execution_count": 8,
     "metadata": {},
     "output_type": "execute_result"
    }
   ],
   "source": [
    "param_grid"
   ]
  },
  {
   "cell_type": "markdown",
   "metadata": {},
   "source": [
    "## Reading data"
   ]
  },
  {
   "cell_type": "code",
   "execution_count": 21,
   "metadata": {},
   "outputs": [],
   "source": [
    "reader_ap_eu = AmphibianReader(r'D:\\gsn-projekt\\data\\all_values\\stocks\\Auto Manufacturers - Major',\n",
    "                               min_date=datetime.datetime(2011, 1, 1),\n",
    "                               max_date=datetime.datetime(2019, 4, 30))\n",
    "\n",
    "_ = reader_ap_eu.create_torch()"
   ]
  },
  {
   "cell_type": "markdown",
   "metadata": {},
   "source": [
    "## ASIA-PACIFIC -> EUROPE"
   ]
  },
  {
   "cell_type": "code",
   "execution_count": null,
   "metadata": {},
   "outputs": [],
   "source": []
  }
 ],
 "metadata": {
  "kernelspec": {
   "display_name": "venv",
   "language": "python",
   "name": "venv"
  },
  "language_info": {
   "codemirror_mode": {
    "name": "ipython",
    "version": 3
   },
   "file_extension": ".py",
   "mimetype": "text/x-python",
   "name": "python",
   "nbconvert_exporter": "python",
   "pygments_lexer": "ipython3",
   "version": "3.6.4"
  }
 },
 "nbformat": 4,
 "nbformat_minor": 2
}
